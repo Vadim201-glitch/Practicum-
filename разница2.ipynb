{
 "cells": [
  {
   "cell_type": "code",
   "execution_count": 5,
   "metadata": {},
   "outputs": [],
   "source": [
    "sl = {'один': 1,'два': 2,'три': 3,'четыре': 4,'пять': 5,'шесть': 6,'семь': 7,'восемь': 8,'девять': 9,'десять': 10,\n",
    "      'одиннадцать': 11,'двенадцать': 12,'тринадцать': 13,'четырнадцать': 14,'пятнадцать': 15,'шестнадцать': 16,'семнадцать': 17,'восемнадцать': 18,'девятнадцать': 19,\n",
    "      'двадцать': 20,'тридцать': 30,'сорок': 40,'пятьдесят': 50,'шестьдесят': 60,'семьдесят': 70,'восемьдесят': 80,'девяносто': 90,'плюс':'+','минус':'-','умножить':'*'}"
   ]
  },
  {
   "cell_type": "code",
   "execution_count": 6,
   "metadata": {},
   "outputs": [],
   "source": [
    "def calc(exp):\n",
    "    exp = exp.split(' ')\n",
    "    cl = list(exp)\n",
    "    count = len(cl)\n",
    "    for i in range(0, count):\n",
    "        cl[i]=sl.get(cl[i])\n",
    "    if count==3:\n",
    "        if cl[1]=='+':\n",
    "            answer=cl[0]+cl[2]\n",
    "        elif cl[1]=='-':\n",
    "            answer=cl[0]-cl[2]\n",
    "        elif cl[1]=='*':\n",
    "            answer=cl[0]*cl[2]\n",
    "    elif count==5:\n",
    "        x=cl[0]+cl[1]\n",
    "        y=cl[3]+cl[4]\n",
    "        if cl[2]=='+':\n",
    "            answer=x+y\n",
    "        elif cl[2]=='-':\n",
    "            answer=x-y\n",
    "        elif cl[2]=='*':\n",
    "            answer=x*y\n",
    "    elif count==4:\n",
    "        if cl[1]=='+' or cl[1]=='-' or cl[1]=='*':\n",
    "            x=cl[0]\n",
    "            y=cl[2]+cl[3]\n",
    "            if cl[1]=='+':\n",
    "                answer=x+y\n",
    "            elif cl[1]=='-':\n",
    "                answer=x-y\n",
    "            elif cl[1]=='*':\n",
    "                answer=x*y\n",
    "        elif cl[2]=='+' or cl[2]=='-' or cl[2]=='*':\n",
    "            x=cl[0]+cl[1]\n",
    "            y=cl[3]\n",
    "            if cl[2]=='+':\n",
    "                answer=x+y\n",
    "            elif cl[2]=='-':\n",
    "                answer=x-y\n",
    "            elif cl[2]=='*':\n",
    "                answer=x*y\n",
    "    return answer"
   ]
  },
  {
   "cell_type": "code",
   "execution_count": 8,
   "metadata": {},
   "outputs": [
    {
     "data": {
      "text/plain": [
       "66"
      ]
     },
     "execution_count": 8,
     "metadata": {},
     "output_type": "execute_result"
    }
   ],
   "source": [
    "calc('двадцать два умножить три')"
   ]
  },
  {
   "cell_type": "code",
   "execution_count": null,
   "metadata": {},
   "outputs": [],
   "source": []
  }
 ],
 "metadata": {
  "kernelspec": {
   "display_name": "Python 3",
   "language": "python",
   "name": "python3"
  },
  "language_info": {
   "codemirror_mode": {
    "name": "ipython",
    "version": 3
   },
   "file_extension": ".py",
   "mimetype": "text/x-python",
   "name": "python",
   "nbconvert_exporter": "python",
   "pygments_lexer": "ipython3",
   "version": "3.8.3"
  }
 },
 "nbformat": 4,
 "nbformat_minor": 4
}
